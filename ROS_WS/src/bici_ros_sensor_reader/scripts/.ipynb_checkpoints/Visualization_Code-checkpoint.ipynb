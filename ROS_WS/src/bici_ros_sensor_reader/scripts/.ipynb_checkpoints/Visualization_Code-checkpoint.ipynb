{
 "cells": [
  {
   "cell_type": "code",
   "execution_count": 1,
   "id": "c2b5b3be",
   "metadata": {},
   "outputs": [],
   "source": [
    "import numpy as np\n",
    "import matplotlib.pyplot as plt\n",
    "import seaborn as sns\n"
   ]
  },
  {
   "cell_type": "code",
   "execution_count": 4,
   "id": "5b353842",
   "metadata": {},
   "outputs": [],
   "source": [
    "normalized_data = np.ones(78)\n"
   ]
  },
  {
   "cell_type": "code",
   "execution_count": 7,
   "id": "6434fa32",
   "metadata": {},
   "outputs": [],
   "source": [
    "slice1 = normalized_data[0:5]\n",
    "slice1 = np.append(slice1,[0])\n",
    "\n",
    "slice2 = normalized_data[5:10]\n",
    "slice2 = np.append(slice2,[0])\n",
    "\n",
    "slice3 = normalized_data[10:19]\n",
    "slice3 = np.append(slice3,[0,0])\n",
    "\n",
    "slice4 = normalized_data[19:28]\n",
    "slice4 = np.append(slice4,[0])\n",
    "\n",
    "slice5 = normalized_data[28:50]\n",
    "slice5 = np.append(slice5,[0,0,0])\n",
    "\n",
    "slice6 = normalized_data[50:56]\n",
    "slice6 = np.append(slice6,[0,0,0,0,0])\n",
    "\n",
    "slice7 = normalized_data[56:62]\n",
    "slice7 = np.append(slice7,[0,0,0,0,0])\n",
    "\n",
    "slice8 = normalized_data[62:64]\n",
    "slice8 = np.append(slice8,[0,0])\n",
    "\n",
    "slice9 = normalized_data[64:66]\n",
    "slice9 = np.append(slice9,[0,0,0,0,0])\n",
    "\n",
    "slice10 = normalized_data[66:68]\n",
    "slice10 = np.append(slice10,[0,0])\n",
    "\n",
    "slice11 = normalized_data[68:70]\n",
    "slice11 = np.append(slice11,[0,0,0,0,0])\n",
    "\n",
    "slice12 = normalized_data[70:72]\n",
    "slice12 = np.append(slice12,[0,0])\n",
    "\n",
    "slice13 = normalized_data[72:74]\n",
    "slice13 = np.append(slice13,[0,0,0,0,0])\n",
    "\n",
    "slice14 = normalized_data[74:76]\n",
    "slice14 = np.append(slice14,[0,0])\n",
    "\n",
    "slice15 = normalized_data[76:78]\n",
    "slice15 = np.append(slice15,[0,0])\n",
    "\n",
    "#Resulting data\n",
    "modified_data = np.concatenate((slice1,slice2,slice3,slice4,slice5,slice6,slice7,slice8,slice9,slice10,slice11,slice12,slice13,slice14,slice15))\n",
    "modified_data = np.reshape(modified_data,(11,11))"
   ]
  },
  {
   "cell_type": "code",
   "execution_count": 8,
   "id": "956e9f7b",
   "metadata": {},
   "outputs": [
    {
     "data": {
      "image/png": "[encoded data removed]",
      "text/plain": [
       "<Figure size 432x288 with 1 Axes>"
      ]
     },
     "metadata": {
      "needs_background": "light"
     },
     "output_type": "display_data"
    }
   ],
   "source": [
    "fig = plt.figure()\n",
    "ax = fig.add_subplot(111)\n",
    "im = ax.imshow(modified_data, cmap='PiYG')\n",
    "plt.show()"
   ]
  },
  {
   "cell_type": "code",
   "execution_count": null,
   "id": "32cf524e",
   "metadata": {},
   "outputs": [],
   "source": []
  }
 ],
 "metadata": {
  "kernelspec": {
   "display_name": "Python 3 (ipykernel)",
   "language": "python",
   "name": "python3"
  },
  "language_info": {
   "codemirror_mode": {
    "name": "ipython",
    "version": 3
   },
   "file_extension": ".py",
   "mimetype": "text/x-python",
   "name": "python",
   "nbconvert_exporter": "python",
   "pygments_lexer": "ipython3",
   "version": "3.8.10"
  }
 },
 "nbformat": 4,
 "nbformat_minor": 5
}
